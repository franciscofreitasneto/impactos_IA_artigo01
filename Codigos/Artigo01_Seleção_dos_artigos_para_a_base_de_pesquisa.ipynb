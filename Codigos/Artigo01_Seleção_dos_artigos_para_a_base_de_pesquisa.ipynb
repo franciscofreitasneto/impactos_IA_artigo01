{
 "cells": [
  {
   "cell_type": "markdown",
   "metadata": {
    "id": "WDmwI6gMxjnU"
   },
   "source": [
    "# Seleção de Artigos para a base de pesquisa:\n",
    "Resultado do artigo 01 sobre a bibliometria do tema: Inteligência Artificial Generativa e seus impactos."
   ]
  },
  {
   "cell_type": "code",
   "execution_count": 1,
   "metadata": {
    "id": "Ev6H51FqxN-T"
   },
   "outputs": [],
   "source": [
    "import pandas as pd"
   ]
  },
  {
   "cell_type": "code",
   "execution_count": 3,
   "metadata": {
    "colab": {
     "base_uri": "https://localhost:8080/",
     "height": 195
    },
    "id": "s6mVmJQLx-dP",
    "outputId": "85672b7b-8558-4494-cdea-1b3149ac1126"
   },
   "outputs": [
    {
     "data": {
      "text/html": [
       "<div>\n",
       "<style scoped>\n",
       "    .dataframe tbody tr th:only-of-type {\n",
       "        vertical-align: middle;\n",
       "    }\n",
       "\n",
       "    .dataframe tbody tr th {\n",
       "        vertical-align: top;\n",
       "    }\n",
       "\n",
       "    .dataframe thead th {\n",
       "        text-align: right;\n",
       "    }\n",
       "</style>\n",
       "<table border=\"1\" class=\"dataframe\">\n",
       "  <thead>\n",
       "    <tr style=\"text-align: right;\">\n",
       "      <th></th>\n",
       "      <th>Autores</th>\n",
       "      <th>Título</th>\n",
       "      <th>Fonte</th>\n",
       "      <th>Ano</th>\n",
       "      <th>Palavras-chave</th>\n",
       "      <th>Resumo</th>\n",
       "      <th>base</th>\n",
       "    </tr>\n",
       "  </thead>\n",
       "  <tbody>\n",
       "    <tr>\n",
       "      <th>0</th>\n",
       "      <td>serova e</td>\n",
       "      <td>artificial intelligence strategies and their i...</td>\n",
       "      <td>proceedings of the 3rd european conference on ...</td>\n",
       "      <td>2021</td>\n",
       "      <td>artificial intelligence; machine learning; eme...</td>\n",
       "      <td>Understanding the exceptional role of intellig...</td>\n",
       "      <td>wos</td>\n",
       "    </tr>\n",
       "    <tr>\n",
       "      <th>1</th>\n",
       "      <td>polunina o</td>\n",
       "      <td>is artificial intelligence disruptive?</td>\n",
       "      <td>proceedings of the european conference on the ...</td>\n",
       "      <td>2019</td>\n",
       "      <td>artificial intelligence; Fourth Industrial Rev...</td>\n",
       "      <td>The paper aims to analyze the risks and hazard...</td>\n",
       "      <td>wos</td>\n",
       "    </tr>\n",
       "    <tr>\n",
       "      <th>2</th>\n",
       "      <td>kshetri n</td>\n",
       "      <td>the environmental impact of artificial intelli...</td>\n",
       "      <td>it professional</td>\n",
       "      <td>2024</td>\n",
       "      <td>Training; Costs; Energy efficiency; Artificial...</td>\n",
       "      <td>This article examines the significant energy a...</td>\n",
       "      <td>wos</td>\n",
       "    </tr>\n",
       "  </tbody>\n",
       "</table>\n",
       "</div>"
      ],
      "text/plain": [
       "      Autores                                             Título  \\\n",
       "0    serova e  artificial intelligence strategies and their i...   \n",
       "1  polunina o             is artificial intelligence disruptive?   \n",
       "2   kshetri n  the environmental impact of artificial intelli...   \n",
       "\n",
       "                                               Fonte   Ano  \\\n",
       "0  proceedings of the 3rd european conference on ...  2021   \n",
       "1  proceedings of the european conference on the ...  2019   \n",
       "2                                    it professional  2024   \n",
       "\n",
       "                                      Palavras-chave  \\\n",
       "0  artificial intelligence; machine learning; eme...   \n",
       "1  artificial intelligence; Fourth Industrial Rev...   \n",
       "2  Training; Costs; Energy efficiency; Artificial...   \n",
       "\n",
       "                                              Resumo base  \n",
       "0  Understanding the exceptional role of intellig...  wos  \n",
       "1  The paper aims to analyze the risks and hazard...  wos  \n",
       "2  This article examines the significant energy a...  wos  "
      ]
     },
     "execution_count": 3,
     "metadata": {},
     "output_type": "execute_result"
    }
   ],
   "source": [
    "df_tratado  = pd.read_csv('../Base_dados/df_tratado.csv')\n",
    "df_tratado.head(3)"
   ]
  },
  {
   "cell_type": "markdown",
   "metadata": {
    "id": "s1YccRLUytvQ"
   },
   "source": [
    "Selecionando artigos relacionados com as palavras: Education em seus títulos ou em suas palavras-chave."
   ]
  },
  {
   "cell_type": "code",
   "execution_count": 4,
   "metadata": {
    "colab": {
     "base_uri": "https://localhost:8080/",
     "height": 247
    },
    "id": "UfnltwtgyNKx",
    "outputId": "5e6c17dd-3bf2-406d-8dbe-479aaa06d96b"
   },
   "outputs": [
    {
     "name": "stdout",
     "output_type": "stream",
     "text": [
      "(19, 7)\n"
     ]
    },
    {
     "data": {
      "text/html": [
       "<div>\n",
       "<style scoped>\n",
       "    .dataframe tbody tr th:only-of-type {\n",
       "        vertical-align: middle;\n",
       "    }\n",
       "\n",
       "    .dataframe tbody tr th {\n",
       "        vertical-align: top;\n",
       "    }\n",
       "\n",
       "    .dataframe thead th {\n",
       "        text-align: right;\n",
       "    }\n",
       "</style>\n",
       "<table border=\"1\" class=\"dataframe\">\n",
       "  <thead>\n",
       "    <tr style=\"text-align: right;\">\n",
       "      <th></th>\n",
       "      <th>Autores</th>\n",
       "      <th>Título</th>\n",
       "      <th>Fonte</th>\n",
       "      <th>Ano</th>\n",
       "      <th>Palavras-chave</th>\n",
       "      <th>Resumo</th>\n",
       "      <th>base</th>\n",
       "    </tr>\n",
       "  </thead>\n",
       "  <tbody>\n",
       "    <tr>\n",
       "      <th>3</th>\n",
       "      <td>humble n;mozelius p</td>\n",
       "      <td>artificial intelligence in education: a promis...</td>\n",
       "      <td>proceedings of the european conference on the ...</td>\n",
       "      <td>2019</td>\n",
       "      <td>Artificial intelligence in education; AIED; AI...</td>\n",
       "      <td>The idea of creating intelligent machines and ...</td>\n",
       "      <td>wos</td>\n",
       "    </tr>\n",
       "    <tr>\n",
       "      <th>46</th>\n",
       "      <td>ateeq a;alzoraiki m;milhem m;ateeq ra</td>\n",
       "      <td>artificial intelligence in education: implicat...</td>\n",
       "      <td>frontiers in education</td>\n",
       "      <td>2024</td>\n",
       "      <td>Artificial Intelligence; academic integrity; E...</td>\n",
       "      <td>This study examines the impact of Artificial I...</td>\n",
       "      <td>wos</td>\n",
       "    </tr>\n",
       "    <tr>\n",
       "      <th>70</th>\n",
       "      <td>sobral s r;ferreira m j;pereira c s;durão n;mo...</td>\n",
       "      <td>exploring the impact of artificial intelligenc...</td>\n",
       "      <td>proceedings of the european conference on e-le...</td>\n",
       "      <td>2024</td>\n",
       "      <td>Educational outcomes; Ethical implications; Ge...</td>\n",
       "      <td>Artificial Intelligence (AI) generative tools ...</td>\n",
       "      <td>scopus</td>\n",
       "    </tr>\n",
       "  </tbody>\n",
       "</table>\n",
       "</div>"
      ],
      "text/plain": [
       "                                              Autores  \\\n",
       "3                                 humble n;mozelius p   \n",
       "46              ateeq a;alzoraiki m;milhem m;ateeq ra   \n",
       "70  sobral s r;ferreira m j;pereira c s;durão n;mo...   \n",
       "\n",
       "                                               Título  \\\n",
       "3   artificial intelligence in education: a promis...   \n",
       "46  artificial intelligence in education: implicat...   \n",
       "70  exploring the impact of artificial intelligenc...   \n",
       "\n",
       "                                                Fonte   Ano  \\\n",
       "3   proceedings of the european conference on the ...  2019   \n",
       "46                             frontiers in education  2024   \n",
       "70  proceedings of the european conference on e-le...  2024   \n",
       "\n",
       "                                       Palavras-chave  \\\n",
       "3   Artificial intelligence in education; AIED; AI...   \n",
       "46  Artificial Intelligence; academic integrity; E...   \n",
       "70  Educational outcomes; Ethical implications; Ge...   \n",
       "\n",
       "                                               Resumo    base  \n",
       "3   The idea of creating intelligent machines and ...     wos  \n",
       "46  This study examines the impact of Artificial I...     wos  \n",
       "70  Artificial Intelligence (AI) generative tools ...  scopus  "
      ]
     },
     "execution_count": 4,
     "metadata": {},
     "output_type": "execute_result"
    }
   ],
   "source": [
    "df_tratado = df_tratado[df_tratado['Título'].str.contains('Education') | df_tratado['Palavras-chave'].str.contains('Education')]\n",
    "print(df_tratado.shape)\n",
    "df_tratado.head(3)"
   ]
  },
  {
   "cell_type": "code",
   "execution_count": 5,
   "metadata": {
    "id": "oGDbUufZzMzA"
   },
   "outputs": [],
   "source": [
    "df_tratado[['Título', 'Fonte', 'base']].to_csv('../Base_dados/df_tratado_education.csv', index=False)"
   ]
  },
  {
   "cell_type": "code",
   "execution_count": null,
   "metadata": {
    "id": "1d50THxPzhyb"
   },
   "outputs": [],
   "source": []
  }
 ],
 "metadata": {
  "colab": {
   "provenance": []
  },
  "kernelspec": {
   "display_name": "Python 3 (ipykernel)",
   "language": "python",
   "name": "python3"
  },
  "language_info": {
   "codemirror_mode": {
    "name": "ipython",
    "version": 3
   },
   "file_extension": ".py",
   "mimetype": "text/x-python",
   "name": "python",
   "nbconvert_exporter": "python",
   "pygments_lexer": "ipython3",
   "version": "3.10.12"
  }
 },
 "nbformat": 4,
 "nbformat_minor": 1
}
